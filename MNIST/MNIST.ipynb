{
  "nbformat": 4,
  "nbformat_minor": 0,
  "metadata": {
    "colab": {
      "provenance": [],
      "gpuType": "T4"
    },
    "kernelspec": {
      "name": "python3",
      "display_name": "Python 3"
    },
    "language_info": {
      "name": "python"
    },
    "accelerator": "GPU"
  },
  "cells": [
    {
      "cell_type": "markdown",
      "source": [
        "**Классификация изображений**\n",
        "\n",
        "Создадим классификатор изображений с помощью Keras и сверточных нейронных сетей для набора данных Fashion MNIST."
      ],
      "metadata": {
        "id": "TIl2CyrVsvz-"
      }
    },
    {
      "cell_type": "code",
      "source": [
        "import numpy as np  # Импорт библиотеки для работы с массивами и векторной алгеброй\n",
        "from sklearn.metrics import accuracy_score  # Импорт функции для оценки точности модели\n",
        "from matplotlib import pyplot as plt  # Импорт библиотеки для визуализации данных\n",
        "\n",
        "# Настройка для отображения графиков непосредственно в блокноте (например, в Jupyter)\n",
        "%matplotlib inline\n",
        "\n",
        "import tensorflow as tf  # Импорт библиотеки TensorFlow для создания и обучения нейронных сетей\n",
        "print(\"We're using TF\", tf.__version__)  # Вывод версии TensorFlow\n",
        "import tensorflow.keras as keras  # Импорт высокоуровневого API Keras для TensorFlow\n",
        "import tensorflow.keras.models as M  # Импорт функционала для создания моделей в Keras\n",
        "import tensorflow.keras.layers as L  # Импорт слоев для нейронных сетей в Keras\n",
        "import tensorflow.keras.backend as K  # Импорт функций для низкоуровневой работы с тензорами и графами в Keras\n",
        "import pandas as pd  # Импорт библиотеки для работы с данными в табличном виде (DataFrame)\n",
        "from tensorflow.keras.backend import clear_session"
      ],
      "metadata": {
        "colab": {
          "base_uri": "https://localhost:8080/"
        },
        "id": "BfSQ2CzrdBsZ",
        "outputId": "58502ab6-d831-4381-de3d-92c2da4fc108"
      },
      "execution_count": null,
      "outputs": [
        {
          "output_type": "stream",
          "name": "stdout",
          "text": [
            "We're using TF 2.17.0\n"
          ]
        }
      ]
    },
    {
      "cell_type": "code",
      "execution_count": null,
      "metadata": {
        "colab": {
          "base_uri": "https://localhost:8080/"
        },
        "id": "CyZGs-HpchSK",
        "outputId": "bb27c913-40fc-48c8-b34b-2995954ce7c9"
      },
      "outputs": [
        {
          "output_type": "stream",
          "name": "stdout",
          "text": [
            "Downloading data from https://storage.googleapis.com/tensorflow/tf-keras-datasets/train-labels-idx1-ubyte.gz\n",
            "\u001b[1m29515/29515\u001b[0m \u001b[32m━━━━━━━━━━━━━━━━━━━━\u001b[0m\u001b[37m\u001b[0m \u001b[1m0s\u001b[0m 0us/step\n",
            "Downloading data from https://storage.googleapis.com/tensorflow/tf-keras-datasets/train-images-idx3-ubyte.gz\n",
            "\u001b[1m26421880/26421880\u001b[0m \u001b[32m━━━━━━━━━━━━━━━━━━━━\u001b[0m\u001b[37m\u001b[0m \u001b[1m0s\u001b[0m 0us/step\n",
            "Downloading data from https://storage.googleapis.com/tensorflow/tf-keras-datasets/t10k-labels-idx1-ubyte.gz\n",
            "\u001b[1m5148/5148\u001b[0m \u001b[32m━━━━━━━━━━━━━━━━━━━━\u001b[0m\u001b[37m\u001b[0m \u001b[1m0s\u001b[0m 0us/step\n",
            "Downloading data from https://storage.googleapis.com/tensorflow/tf-keras-datasets/t10k-images-idx3-ubyte.gz\n",
            "\u001b[1m4422102/4422102\u001b[0m \u001b[32m━━━━━━━━━━━━━━━━━━━━\u001b[0m\u001b[37m\u001b[0m \u001b[1m0s\u001b[0m 0us/step\n"
          ]
        }
      ],
      "source": [
        "from tensorflow.keras.datasets import fashion_mnist\n",
        "(X_train, y_train), (X_test, y_test) = fashion_mnist.load_data()"
      ]
    },
    {
      "cell_type": "code",
      "source": [
        "X_train_image = X_train[5, :, :]\n",
        "\n",
        "# Вывод примера части изображения\n",
        "print(\"Пример кусочка картинки:\")\n",
        "plt.imshow(X_train_image[15:20, 5:10])  # Отображение небольшого фрагмента изображения (с 15 по 20 строку и с 5 по 10 столбец)\n",
        "plt.show()  # Показать фрагмент изображения\n",
        "\n",
        "# Вывод всего изображения\n",
        "print(\"Пример картинки:\")\n",
        "plt.imshow(X_train_image)  # Отображение всего изображения с использованием цветовой карты \"Greys\" для оттенков серого\n",
        "plt.show()  # Показать полное изображение\n",
        "\n",
        "# Вывод первых 10 значений из y_train и информации о форме массива y_train\n",
        "print(\"y_train [shape %s] 10 примеров:\\n\" % (str(y_train.shape)), y_train[:10])  # Печать формы массива y_train и первых 10 меток (классов) для изображений"
      ],
      "metadata": {
        "colab": {
          "base_uri": "https://localhost:8080/",
          "height": 916
        },
        "id": "JG-cjISuckOQ",
        "outputId": "9c680bd7-cae7-45c0-eb74-427db43e2ef2"
      },
      "execution_count": null,
      "outputs": [
        {
          "output_type": "stream",
          "name": "stdout",
          "text": [
            "Пример кусочка картинки:\n"
          ]
        },
        {
          "output_type": "display_data",
          "data": {
            "text/plain": [
              "<Figure size 640x480 with 1 Axes>"
            ],
            "image/png": "[encoded data removed]"
          },
          "metadata": {}
        },
        {
          "output_type": "stream",
          "name": "stdout",
          "text": [
            "Пример картинки:\n"
          ]
        },
        {
          "output_type": "display_data",
          "data": {
            "text/plain": [
              "<Figure size 640x480 with 1 Axes>"
            ],
            "image/png": "[encoded data removed]"
          },
          "metadata": {}
        },
        {
          "output_type": "stream",
          "name": "stdout",
          "text": [
            "y_train [shape (60000,)] 10 примеров:\n",
            " [9 0 0 3 0 2 7 2 5 5]\n"
          ]
        }
      ]
    },
    {
      "cell_type": "code",
      "source": [
        "X_train.dtype"
      ],
      "metadata": {
        "colab": {
          "base_uri": "https://localhost:8080/"
        },
        "id": "YbJFSS_udHm4",
        "outputId": "4bf99f10-503a-4f5a-fe0a-da6b7e3acdaa"
      },
      "execution_count": null,
      "outputs": [
        {
          "output_type": "execute_result",
          "data": {
            "text/plain": [
              "dtype('uint8')"
            ]
          },
          "metadata": {},
          "execution_count": 4
        }
      ]
    },
    {
      "cell_type": "code",
      "source": [
        "X_train = X_train.astype(float) / 255\n",
        "X_test = X_test.astype(float) / 255"
      ],
      "metadata": {
        "id": "SPHkJuO7dMZv"
      },
      "execution_count": null,
      "outputs": []
    },
    {
      "cell_type": "code",
      "source": [
        "# one-hot encode для ответов\n",
        "# Преобразуем метки классов y_train и y_val в формат one-hot\n",
        "# Каждая метка будет представлена бинарным вектором длины 10 (по количеству классов)\n",
        "y_train_oh = keras.utils.to_categorical(y_train, 10)\n",
        "y_test_oh = keras.utils.to_categorical(y_test, 10)\n",
        "\n",
        "print(y_train_oh.shape) # Выводим форму one-hot закодированных меток\n",
        "print(y_train_oh[:5], y_train[:5]) # Выводим первые 5 one-hot меток и соответствующие оригинальные метки для проверки"
      ],
      "metadata": {
        "colab": {
          "base_uri": "https://localhost:8080/"
        },
        "id": "-tJMB-lWdlf5",
        "outputId": "a29e67ef-7f7e-4c98-e2f6-a2af65c02c54"
      },
      "execution_count": null,
      "outputs": [
        {
          "output_type": "stream",
          "name": "stdout",
          "text": [
            "(60000, 10)\n",
            "[[0. 0. 0. 0. 0. 0. 0. 0. 0. 1.]\n",
            " [1. 0. 0. 0. 0. 0. 0. 0. 0. 0.]\n",
            " [1. 0. 0. 0. 0. 0. 0. 0. 0. 0.]\n",
            " [0. 0. 0. 1. 0. 0. 0. 0. 0. 0.]\n",
            " [1. 0. 0. 0. 0. 0. 0. 0. 0. 0.]] [9 0 0 3 0]\n"
          ]
        }
      ]
    },
    {
      "cell_type": "code",
      "source": [
        "clear_session()"
      ],
      "metadata": {
        "id": "PwmCX26IeExZ"
      },
      "execution_count": null,
      "outputs": []
    },
    {
      "cell_type": "code",
      "source": [
        "# Очистка текущего графа и освобождение ресурсов TensorFlow/Keras\n",
        "K.clear_session()\n",
        "\n",
        "model = M.Sequential()\n",
        "\n",
        "model.add(L.Conv2D(16, kernel_size=3, strides=1, padding='same', input_shape=(28, 28, 1)))\n",
        "\n",
        "model.add(L.MaxPool2D())\n",
        "\n",
        "model.add(L.Conv2D(32, kernel_size=3, strides=1, padding='same'))\n",
        "\n",
        "model.add(L.MaxPool2D())\n",
        "\n",
        "model.add(L.Conv2D(64, kernel_size=3, strides=1, padding='same'))\n",
        "\n",
        "model.add(L.MaxPool2D())\n",
        "\n",
        "model.add(L.Conv2D(64, kernel_size=3, strides=1, padding='same'))\n",
        "\n",
        "model.add(L.MaxPool2D())\n",
        "\n",
        "model.add(L.Flatten())\n",
        "\n",
        "model.add(L.Dense(10, activation='softmax'))"
      ],
      "metadata": {
        "id": "g17aYdXpeJUR"
      },
      "execution_count": null,
      "outputs": []
    },
    {
      "cell_type": "code",
      "source": [
        "model.compile(\n",
        "    loss='categorical_crossentropy',\n",
        "    optimizer='adam',\n",
        "    metrics=['accuracy']\n",
        ")"
      ],
      "metadata": {
        "id": "QTxjTX9rfLiw"
      },
      "execution_count": null,
      "outputs": []
    },
    {
      "cell_type": "code",
      "source": [
        "model.fit(\n",
        "    X_train[:, :, :, np.newaxis],\n",
        "    y_train_oh,\n",
        "    batch_size=32,\n",
        "    epochs=10,\n",
        "    validation_data=(X_test[:, :, :, np.newaxis], y_test_oh)\n",
        ")"
      ],
      "metadata": {
        "colab": {
          "base_uri": "https://localhost:8080/"
        },
        "id": "fmK9uoD9fNnR",
        "outputId": "426b3cff-26cf-4e0e-d330-0a6d935f958e"
      },
      "execution_count": null,
      "outputs": [
        {
          "output_type": "stream",
          "name": "stdout",
          "text": [
            "Epoch 1/10\n",
            "\u001b[1m1875/1875\u001b[0m \u001b[32m━━━━━━━━━━━━━━━━━━━━\u001b[0m\u001b[37m\u001b[0m \u001b[1m9s\u001b[0m 3ms/step - accuracy: 0.9599 - loss: 0.1083 - val_accuracy: 0.9050 - val_loss: 0.3292\n",
            "Epoch 2/10\n",
            "\u001b[1m1875/1875\u001b[0m \u001b[32m━━━━━━━━━━━━━━━━━━━━\u001b[0m\u001b[37m\u001b[0m \u001b[1m5s\u001b[0m 3ms/step - accuracy: 0.9650 - loss: 0.0947 - val_accuracy: 0.9067 - val_loss: 0.3621\n",
            "Epoch 3/10\n",
            "\u001b[1m1875/1875\u001b[0m \u001b[32m━━━━━━━━━━━━━━━━━━━━\u001b[0m\u001b[37m\u001b[0m \u001b[1m10s\u001b[0m 3ms/step - accuracy: 0.9674 - loss: 0.0877 - val_accuracy: 0.9031 - val_loss: 0.3763\n",
            "Epoch 4/10\n",
            "\u001b[1m1875/1875\u001b[0m \u001b[32m━━━━━━━━━━━━━━━━━━━━\u001b[0m\u001b[37m\u001b[0m \u001b[1m6s\u001b[0m 3ms/step - accuracy: 0.9724 - loss: 0.0758 - val_accuracy: 0.9021 - val_loss: 0.3968\n",
            "Epoch 5/10\n",
            "\u001b[1m1875/1875\u001b[0m \u001b[32m━━━━━━━━━━━━━━━━━━━━\u001b[0m\u001b[37m\u001b[0m \u001b[1m11s\u001b[0m 3ms/step - accuracy: 0.9751 - loss: 0.0691 - val_accuracy: 0.8897 - val_loss: 0.4788\n",
            "Epoch 6/10\n",
            "\u001b[1m1875/1875\u001b[0m \u001b[32m━━━━━━━━━━━━━━━━━━━━\u001b[0m\u001b[37m\u001b[0m \u001b[1m6s\u001b[0m 3ms/step - accuracy: 0.9754 - loss: 0.0677 - val_accuracy: 0.9009 - val_loss: 0.4476\n",
            "Epoch 7/10\n",
            "\u001b[1m1875/1875\u001b[0m \u001b[32m━━━━━━━━━━━━━━━━━━━━\u001b[0m\u001b[37m\u001b[0m \u001b[1m10s\u001b[0m 3ms/step - accuracy: 0.9771 - loss: 0.0589 - val_accuracy: 0.9060 - val_loss: 0.4351\n",
            "Epoch 8/10\n",
            "\u001b[1m1875/1875\u001b[0m \u001b[32m━━━━━━━━━━━━━━━━━━━━\u001b[0m\u001b[37m\u001b[0m \u001b[1m10s\u001b[0m 3ms/step - accuracy: 0.9800 - loss: 0.0556 - val_accuracy: 0.9026 - val_loss: 0.4798\n",
            "Epoch 9/10\n",
            "\u001b[1m1875/1875\u001b[0m \u001b[32m━━━━━━━━━━━━━━━━━━━━\u001b[0m\u001b[37m\u001b[0m \u001b[1m9s\u001b[0m 3ms/step - accuracy: 0.9794 - loss: 0.0568 - val_accuracy: 0.9030 - val_loss: 0.4890\n",
            "Epoch 10/10\n",
            "\u001b[1m1875/1875\u001b[0m \u001b[32m━━━━━━━━━━━━━━━━━━━━\u001b[0m\u001b[37m\u001b[0m \u001b[1m6s\u001b[0m 3ms/step - accuracy: 0.9819 - loss: 0.0496 - val_accuracy: 0.9003 - val_loss: 0.5202\n"
          ]
        },
        {
          "output_type": "execute_result",
          "data": {
            "text/plain": [
              "<keras.src.callbacks.history.History at 0x7b4c301f6980>"
            ]
          },
          "metadata": {},
          "execution_count": 23
        }
      ]
    }
  ]
}